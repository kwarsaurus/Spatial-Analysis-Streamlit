{
 "cells": [
  {
   "cell_type": "code",
   "execution_count": 1,
   "id": "83d10de5-797b-46e5-851b-8059757b5a05",
   "metadata": {},
   "outputs": [
    {
     "data": {
      "text/plain": [
       "'C:\\\\Users\\\\ESB\\\\Desktop\\\\folder kerja\\\\folder jupyter lab\\\\spatial'"
      ]
     },
     "execution_count": 1,
     "metadata": {},
     "output_type": "execute_result"
    }
   ],
   "source": [
    "pwd"
   ]
  },
  {
   "cell_type": "raw",
   "id": "cc6ed867-5575-43b5-9c0e-9987ab7b1a28",
   "metadata": {},
   "source": [
    "available_categories = [\n",
    "    'Bakery Items',\n",
    "    'Coffee and Hot Beverages', \n",
    "    'Combo and Set Meals',\n",
    "    'Comfort Food',\n",
    "    'Egg Dishes',\n",
    "    'Fresh Juices',\n",
    "    'Fresh Seafood',\n",
    "    'Indonesian Traditional',\n",
    "    'Japanese BBQ and Hotpot',\n",
    "    'Japanese Cuisine',\n",
    "    'Japanese Fried Chicken',\n",
    "    'Salads and Bowls',\n",
    "    'Steaks and Grills',\n",
    "    'Tea and Traditional Drinks',\n",
    "    'Teppanyaki and Steaks',\n",
    "    'Thai Appetizers and Salads',\n",
    "    'Thai Food',\n",
    "    'Thai Main Dishes'\n",
    "]\n",
    "\n",
    "# High opportunity categories\n",
    "high_opportunity = [\n",
    "    'Fresh Juices',\n",
    "    'Salads and Bowls', \n",
    "    'Fresh Seafood',\n",
    "    'Egg Dishes',\n",
    "    'Japanese Fried Chicken'\n",
    "]\n",
    "\n",
    "# Popular categories\n",
    "popular_categories = [\n",
    "    'Coffee and Hot Beverages',\n",
    "    'Japanese Cuisine',\n",
    "    'Indonesian Traditional',\n",
    "    'Thai Food',\n",
    "    'Comfort Food'\n",
    "]\n",
    "\n",
    "test_locations = [\n",
    "    # High potential areas\n",
    "    (-6.225, 106.825, 'Setia Budi', 'Fresh Juices'),\n",
    "    (-6.235, 106.805, 'Kebayoran Baru', 'Coffee and Hot Beverages'),\n",
    "    (-6.220, 106.820, 'Setia Budi', 'Salads and Bowls'),\n",
    "    \n",
    "    # Medium potential  \n",
    "    (-6.230, 106.850, 'Tebet', 'Japanese Cuisine'),\n",
    "    (-6.285, 106.795, 'Cilandak', 'Indonesian Traditional'),\n",
    "    \n",
    "    # Lower potential \n",
    "    (-6.320, 106.820, 'Jagakarsa', 'Fresh Seafood')\n",
    "]\n",
    "\n",
    "# Test all locations\n",
    "for lat, lng, district, category in test_locations:\n",
    "    result = ml_system.score_new_location(lat, lng, district, category)\n",
    "    print(f\"{district} - {category}: Score {result['spatial_score']['score']}\")"
   ]
  },
  {
   "cell_type": "code",
   "execution_count": 4,
   "id": "9a220c11-2d5b-40fa-8911-817147c2f3a4",
   "metadata": {},
   "outputs": [
    {
     "name": "stdout",
     "output_type": "stream",
     "text": [
      "Collecting geopyNote: you may need to restart the kernel to use updated packages.\n",
      "\n",
      "  Downloading geopy-2.4.1-py3-none-any.whl.metadata (6.8 kB)\n",
      "Collecting geographiclib<3,>=1.52 (from geopy)\n",
      "  Downloading geographiclib-2.0-py3-none-any.whl.metadata (1.4 kB)\n",
      "Downloading geopy-2.4.1-py3-none-any.whl (125 kB)\n",
      "Downloading geographiclib-2.0-py3-none-any.whl (40 kB)\n",
      "Installing collected packages: geographiclib, geopy\n",
      "\n",
      "   -------------------- ------------------- 1/2 [geopy]\n",
      "   ---------------------------------------- 2/2 [geopy]\n",
      "\n",
      "Successfully installed geographiclib-2.0 geopy-2.4.1\n"
     ]
    }
   ],
   "source": [
    "pip install geopy"
   ]
  },
  {
   "cell_type": "code",
   "execution_count": 5,
   "id": "950e39d8-54f9-47fe-a416-d53945e739f8",
   "metadata": {},
   "outputs": [
    {
     "name": "stderr",
     "output_type": "stream",
     "text": [
      "C:\\Users\\ESB\\anaconda3\\Lib\\site-packages\\sklearn\\base.py:380: InconsistentVersionWarning: Trying to unpickle estimator DecisionTreeRegressor from version 1.7.0 when using version 1.6.1. This might lead to breaking code or invalid results. Use at your own risk. For more info please refer to:\n",
      "https://scikit-learn.org/stable/model_persistence.html#security-maintainability-limitations\n",
      "  warnings.warn(\n",
      "C:\\Users\\ESB\\anaconda3\\Lib\\site-packages\\sklearn\\base.py:380: InconsistentVersionWarning: Trying to unpickle estimator RandomForestRegressor from version 1.7.0 when using version 1.6.1. This might lead to breaking code or invalid results. Use at your own risk. For more info please refer to:\n",
      "https://scikit-learn.org/stable/model_persistence.html#security-maintainability-limitations\n",
      "  warnings.warn(\n",
      "C:\\Users\\ESB\\anaconda3\\Lib\\site-packages\\sklearn\\base.py:380: InconsistentVersionWarning: Trying to unpickle estimator StandardScaler from version 1.7.0 when using version 1.6.1. This might lead to breaking code or invalid results. Use at your own risk. For more info please refer to:\n",
      "https://scikit-learn.org/stable/model_persistence.html#security-maintainability-limitations\n",
      "  warnings.warn(\n"
     ]
    },
    {
     "ename": "FileNotFoundError",
     "evalue": "[Errno 2] No such file or directory: 'final_model_updated_1/models/metadata.pkl'",
     "output_type": "error",
     "traceback": [
      "\u001b[1;31m---------------------------------------------------------------------------\u001b[0m",
      "\u001b[1;31mFileNotFoundError\u001b[0m                         Traceback (most recent call last)",
      "Cell \u001b[1;32mIn[5], line 4\u001b[0m\n\u001b[0;32m      1\u001b[0m \u001b[38;5;28;01mfrom\u001b[39;00m\u001b[38;5;250m \u001b[39m\u001b[38;5;21;01mrestaurant_recomendation_v1\u001b[39;00m\u001b[38;5;250m \u001b[39m\u001b[38;5;28;01mimport\u001b[39;00m RestaurantLocationML\n\u001b[0;32m      3\u001b[0m \u001b[38;5;66;03m# Initialize\u001b[39;00m\n\u001b[1;32m----> 4\u001b[0m ml_system \u001b[38;5;241m=\u001b[39m RestaurantLocationML(\u001b[38;5;124m'\u001b[39m\u001b[38;5;124mfinal_model_updated_1\u001b[39m\u001b[38;5;124m'\u001b[39m)\n\u001b[0;32m      7\u001b[0m result \u001b[38;5;241m=\u001b[39m ml_system\u001b[38;5;241m.\u001b[39mscore_new_location(\u001b[38;5;241m-\u001b[39m\u001b[38;5;241m6.235\u001b[39m, \u001b[38;5;241m105.305\u001b[39m, \u001b[38;5;124m'\u001b[39m\u001b[38;5;124mTebet\u001b[39m\u001b[38;5;124m'\u001b[39m, \u001b[38;5;124m'\u001b[39m\u001b[38;5;124mFresh Juices\u001b[39m\u001b[38;5;124m'\u001b[39m)\n\u001b[0;32m      8\u001b[0m \u001b[38;5;28mprint\u001b[39m(\u001b[38;5;124mf\u001b[39m\u001b[38;5;124m\"\u001b[39m\u001b[38;5;124mScore: \u001b[39m\u001b[38;5;132;01m{\u001b[39;00mresult[\u001b[38;5;124m'\u001b[39m\u001b[38;5;124mspatial_score\u001b[39m\u001b[38;5;124m'\u001b[39m][\u001b[38;5;124m'\u001b[39m\u001b[38;5;124mscore\u001b[39m\u001b[38;5;124m'\u001b[39m]\u001b[38;5;132;01m}\u001b[39;00m\u001b[38;5;124m\"\u001b[39m)\n",
      "File \u001b[1;32m~\\Desktop\\restaurant_recomendation_v1.py:18\u001b[0m, in \u001b[0;36mRestaurantLocationML.__init__\u001b[1;34m(self, model_path)\u001b[0m\n\u001b[0;32m     16\u001b[0m \u001b[38;5;250m\u001b[39m\u001b[38;5;124;03m\"\"\"Initialize system with updated models\"\"\"\u001b[39;00m\n\u001b[0;32m     17\u001b[0m \u001b[38;5;28mself\u001b[39m\u001b[38;5;241m.\u001b[39mmodel_path \u001b[38;5;241m=\u001b[39m model_path\n\u001b[1;32m---> 18\u001b[0m \u001b[38;5;28mself\u001b[39m\u001b[38;5;241m.\u001b[39m_load_components()\n\u001b[0;32m     19\u001b[0m \u001b[38;5;28mprint\u001b[39m(\u001b[38;5;124m\"\u001b[39m\u001b[38;5;124m🎯 Restaurant Location ML System Loaded\u001b[39m\u001b[38;5;124m\"\u001b[39m)\n\u001b[0;32m     20\u001b[0m \u001b[38;5;28mprint\u001b[39m(\u001b[38;5;124mf\u001b[39m\u001b[38;5;124m\"\u001b[39m\u001b[38;5;124m📊 Spatial Model: R² = 0.451\u001b[39m\u001b[38;5;124m\"\u001b[39m)\n",
      "File \u001b[1;32m~\\Desktop\\restaurant_recomendation_v1.py:42\u001b[0m, in \u001b[0;36mRestaurantLocationML._load_components\u001b[1;34m(self)\u001b[0m\n\u001b[0;32m     39\u001b[0m \u001b[38;5;28mself\u001b[39m\u001b[38;5;241m.\u001b[39mreference_data \u001b[38;5;241m=\u001b[39m pd\u001b[38;5;241m.\u001b[39mread_csv(\u001b[38;5;124mf\u001b[39m\u001b[38;5;124m'\u001b[39m\u001b[38;5;132;01m{\u001b[39;00m\u001b[38;5;28mself\u001b[39m\u001b[38;5;241m.\u001b[39mmodel_path\u001b[38;5;132;01m}\u001b[39;00m\u001b[38;5;124m/data/reference_branches.csv\u001b[39m\u001b[38;5;124m'\u001b[39m)\n\u001b[0;32m     41\u001b[0m \u001b[38;5;66;03m# Load metadata with accurate landmarks\u001b[39;00m\n\u001b[1;32m---> 42\u001b[0m \u001b[38;5;28mself\u001b[39m\u001b[38;5;241m.\u001b[39mmetadata \u001b[38;5;241m=\u001b[39m joblib\u001b[38;5;241m.\u001b[39mload(\u001b[38;5;124mf\u001b[39m\u001b[38;5;124m'\u001b[39m\u001b[38;5;132;01m{\u001b[39;00m\u001b[38;5;28mself\u001b[39m\u001b[38;5;241m.\u001b[39mmodel_path\u001b[38;5;132;01m}\u001b[39;00m\u001b[38;5;124m/models/metadata.pkl\u001b[39m\u001b[38;5;124m'\u001b[39m)\n\u001b[0;32m     43\u001b[0m \u001b[38;5;28mself\u001b[39m\u001b[38;5;241m.\u001b[39mlandmarks \u001b[38;5;241m=\u001b[39m \u001b[38;5;28mself\u001b[39m\u001b[38;5;241m.\u001b[39mmetadata[\u001b[38;5;124m'\u001b[39m\u001b[38;5;124mlandmarks\u001b[39m\u001b[38;5;124m'\u001b[39m]\n",
      "File \u001b[1;32m~\\anaconda3\\Lib\\site-packages\\joblib\\numpy_pickle.py:650\u001b[0m, in \u001b[0;36mload\u001b[1;34m(filename, mmap_mode)\u001b[0m\n\u001b[0;32m    648\u001b[0m         obj \u001b[38;5;241m=\u001b[39m _unpickle(fobj)\n\u001b[0;32m    649\u001b[0m \u001b[38;5;28;01melse\u001b[39;00m:\n\u001b[1;32m--> 650\u001b[0m     \u001b[38;5;28;01mwith\u001b[39;00m \u001b[38;5;28mopen\u001b[39m(filename, \u001b[38;5;124m'\u001b[39m\u001b[38;5;124mrb\u001b[39m\u001b[38;5;124m'\u001b[39m) \u001b[38;5;28;01mas\u001b[39;00m f:\n\u001b[0;32m    651\u001b[0m         \u001b[38;5;28;01mwith\u001b[39;00m _read_fileobject(f, filename, mmap_mode) \u001b[38;5;28;01mas\u001b[39;00m fobj:\n\u001b[0;32m    652\u001b[0m             \u001b[38;5;28;01mif\u001b[39;00m \u001b[38;5;28misinstance\u001b[39m(fobj, \u001b[38;5;28mstr\u001b[39m):\n\u001b[0;32m    653\u001b[0m                 \u001b[38;5;66;03m# if the returned file object is a string, this means we\u001b[39;00m\n\u001b[0;32m    654\u001b[0m                 \u001b[38;5;66;03m# try to load a pickle file generated with an version of\u001b[39;00m\n\u001b[0;32m    655\u001b[0m                 \u001b[38;5;66;03m# Joblib so we load it with joblib compatibility function.\u001b[39;00m\n",
      "\u001b[1;31mFileNotFoundError\u001b[0m: [Errno 2] No such file or directory: 'final_model_updated_1/models/metadata.pkl'"
     ]
    }
   ],
   "source": [
    "from restaurant_recomendation_v1 import RestaurantLocationML\n",
    "\n",
    "# Initialize\n",
    "ml_system = RestaurantLocationML('final_model_updated_1')\n",
    "\n",
    "\n",
    "result = ml_system.score_new_location(-6.235, 105.305, 'Tebet', 'Fresh Juices')\n",
    "print(f\"Score: {result['spatial_score']['score']}\")"
   ]
  },
  {
   "cell_type": "code",
   "execution_count": 11,
   "id": "acb564e2-f0a7-4570-a757-0c51858e4c08",
   "metadata": {},
   "outputs": [
    {
     "name": "stdout",
     "output_type": "stream",
     "text": [
      "🎯 Restaurant Location ML System Loaded\n",
      "📊 Spatial Model: R² = 0.451\n",
      "📊 Portfolio Model: R² = 0.464\n",
      "✅ Using accurate landmark coordinates\n"
     ]
    },
    {
     "name": "stderr",
     "output_type": "stream",
     "text": [
      "C:\\Users\\ESB\\miniconda3\\Lib\\site-packages\\sklearn\\utils\\validation.py:2749: UserWarning: X does not have valid feature names, but StandardScaler was fitted with feature names\n",
      "  warnings.warn(\n",
      "C:\\Users\\ESB\\miniconda3\\Lib\\site-packages\\sklearn\\utils\\validation.py:2749: UserWarning: X does not have valid feature names, but StandardScaler was fitted with feature names\n",
      "  warnings.warn(\n"
     ]
    },
    {
     "name": "stdout",
     "output_type": "stream",
     "text": [
      "Location comparison (ranked by score):\n",
      "1. Setia Budi - Coffee and Hot Beverages\n",
      "   Score: 0.42 (High)\n",
      "   🟢 RECOMMENDED: Good potential location\n",
      "2. Kebayoran Baru - Fresh Juices\n",
      "   Score: 0.264 (Medium)\n",
      "   🟡 CONSIDER: Moderate potential, validate with research\n",
      "3. Cilandak - Japanese Cuisine\n",
      "   Score: 0.097 (Very Low)\n",
      "   🔴 NOT RECOMMENDED: Very low potential\n"
     ]
    },
    {
     "name": "stderr",
     "output_type": "stream",
     "text": [
      "C:\\Users\\ESB\\miniconda3\\Lib\\site-packages\\sklearn\\utils\\validation.py:2749: UserWarning: X does not have valid feature names, but StandardScaler was fitted with feature names\n",
      "  warnings.warn(\n"
     ]
    }
   ],
   "source": [
    "from restaurant_recomendation_v1 import RestaurantLocationML\n",
    "\n",
    "# Initialize system\n",
    "ml_system = RestaurantLocationML('final_model_updated')\n",
    "\n",
    "# Define candidate locations\n",
    "candidate_locations = [\n",
    "   (-6.235, 106.805, 'Kebayoran Baru', 'Fresh Juices'),\n",
    "   (-6.225, 106.825, 'Setia Budi', 'Coffee and Hot Beverages'),\n",
    "   (-6.285, 106.795, 'Cilandak', 'Japanese Cuisine')\n",
    "]\n",
    "\n",
    "# Compare locations\n",
    "comparison = ml_system.compare_locations(candidate_locations)\n",
    "\n",
    "print(\"Location comparison (ranked by score):\")\n",
    "for i, loc in enumerate(comparison, 1):\n",
    "   district = loc['location']['district']\n",
    "   category = loc['location']['category']\n",
    "   score = loc['spatial_score']['score']\n",
    "   level = loc['spatial_score']['level']\n",
    "   recommendation = loc['recommendation']\n",
    "   \n",
    "   print(f\"{i}. {district} - {category}\")\n",
    "   print(f\"   Score: {score} ({level})\")\n",
    "   print(f\"   {recommendation}\")"
   ]
  },
  {
   "cell_type": "code",
   "execution_count": 6,
   "id": "70cb86a2-e8a1-485e-85fe-ede0c9e1be0d",
   "metadata": {},
   "outputs": [],
   "source": [
    "available_districts = [\n",
    "    'Kebayoran Baru',\n",
    "    'Setia Budi',  \n",
    "    'Cilandak',\n",
    "    'Tebet',\n",
    "    'Mampang Prapatan',\n",
    "    'Pasar Minggu',\n",
    "    'Jagakarsa',\n",
    "    'Pancoran'\n",
    "]"
   ]
  },
  {
   "cell_type": "code",
   "execution_count": 7,
   "id": "dc94b211-019b-4927-925b-760950803eb6",
   "metadata": {},
   "outputs": [],
   "source": [
    "district_coordinates = {\n",
    "    'Kebayoran Baru': [\n",
    "        (-6.235, 106.805),  # Near Blok M\n",
    "        (-6.240, 106.800),  # Kebayoran area\n",
    "        (-6.230, 106.810)   # North Kebayoran\n",
    "    ],\n",
    "    'Setia Budi': [\n",
    "        (-6.220, 106.825),  # Near Sudirman \n",
    "        (-6.225, 106.820),  # Setia Budi area\n",
    "        (-6.215, 106.830)   # North Setia Budi\n",
    "    ],\n",
    "    'Cilandak': [\n",
    "        (-6.285, 106.795),  # Cilandak area\n",
    "        (-6.290, 106.790),  # South Cilandak\n",
    "        (-6.280, 106.800)   # North Cilandak\n",
    "    ],\n",
    "    'Tebet': [\n",
    "        (-6.230, 106.850),  # Tebet area\n",
    "        (-6.235, 106.845),  # Central Tebet\n",
    "        (-6.225, 106.855)   # East Tebet\n",
    "    ],\n",
    "    'Mampang Prapatan': [\n",
    "        (-6.250, 106.815),  # Mampang area\n",
    "        (-6.255, 106.810),  # Central Mampang\n",
    "        (-6.245, 106.820)   # North Mampang\n",
    "    ]\n",
    "}"
   ]
  },
  {
   "cell_type": "code",
   "execution_count": 3,
   "id": "1c873021-c3ce-4af2-8226-ade81f524a44",
   "metadata": {},
   "outputs": [],
   "source": [
    "from restaurant_recomendation_v1 import RestaurantLocationML"
   ]
  },
  {
   "cell_type": "code",
   "execution_count": 4,
   "id": "ca899b4d-f4ed-47b0-a50b-1ea1beca0fbf",
   "metadata": {},
   "outputs": [
    {
     "name": "stdout",
     "output_type": "stream",
     "text": [
      "🎯 Restaurant Location ML System Loaded\n",
      "📊 Spatial Model: R² = 0.451\n",
      "📊 Portfolio Model: R² = 0.464\n",
      "✅ Using accurate landmark coordinates\n"
     ]
    },
    {
     "name": "stderr",
     "output_type": "stream",
     "text": [
      "C:\\Users\\ESB\\miniconda3\\Lib\\site-packages\\sklearn\\utils\\validation.py:2749: UserWarning: X does not have valid feature names, but StandardScaler was fitted with feature names\n",
      "  warnings.warn(\n"
     ]
    },
    {
     "data": {
      "text/plain": [
       "{'location': {'coordinates': (-6.235, 106.805),\n",
       "  'district': 'Kebayoran Baru',\n",
       "  'category': 'Fresh Juices'},\n",
       " 'spatial_score': {'score': np.float64(0.264),\n",
       "  'level': 'Medium',\n",
       "  'confidence': 'Medium'},\n",
       " 'key_factors': {'distance_to_kemang_km': 4.98,\n",
       "  'distance_to_cbd_km': 1.79,\n",
       "  'distance_to_senayan_km': 1.21,\n",
       "  'competitors_1km': 8,\n",
       "  'market_intensity_billions': 0.56},\n",
       " 'recommendation': '🟡 CONSIDER: Moderate potential, validate with research',\n",
       " 'spatial_insights': ['Near main business district',\n",
       "  'High market activity area']}"
      ]
     },
     "execution_count": 4,
     "metadata": {},
     "output_type": "execute_result"
    }
   ],
   "source": [
    "# Initialize\n",
    "ml_system = RestaurantLocationML('final_model_updated')\n",
    "\n",
    "# 1. Score single location\n",
    "result = ml_system.score_new_location(-6.235, 106.805, 'Kebayoran Baru', 'Fresh Juices')\n",
    "result"
   ]
  },
  {
   "cell_type": "code",
   "execution_count": 5,
   "id": "074571e3-7394-41a3-9288-d35cdd296d02",
   "metadata": {},
   "outputs": [
    {
     "data": {
      "text/plain": [
       "{'portfolio_summary': {'total_branches': 169,\n",
       "  'avg_performance': np.float64(0.201),\n",
       "  'avg_potential': np.float64(0.202),\n",
       "  'optimization_gap': np.float64(-0.237)},\n",
       " 'status_distribution': {'As Expected': 157,\n",
       "  'Underperforming': 6,\n",
       "  'Overperforming': 6},\n",
       " 'top_performers': [{'branchName': 'Shaburi Kintan PP',\n",
       "   'districtName': 'Kebayoran Baru',\n",
       "   'performance_score': 0.6166499475569293},\n",
       "  {'branchName': 'Paradise Dynasty Plaza Senayan',\n",
       "   'districtName': 'Kebayoran Baru',\n",
       "   'performance_score': 0.5380278752245982},\n",
       "  {'branchName': 'Shaburi Kintan Ciputra World',\n",
       "   'districtName': 'Setia Budi',\n",
       "   'performance_score': 0.5371443971597512},\n",
       "  {'branchName': 'Paris Baguette ASHTA',\n",
       "   'districtName': 'Kebayoran Baru',\n",
       "   'performance_score': 0.5131341059565954},\n",
       "  {'branchName': 'Kimukatsu Ciputra World',\n",
       "   'districtName': 'Setia Budi',\n",
       "   'performance_score': 0.4910096990957319}],\n",
       " 'optimization_candidates': [{'branchName': 'Bumbu Manado Gatot Subroto',\n",
       "   'districtName': 'Mampang Prapatan',\n",
       "   'performance_gap': -0.29353408754367827},\n",
       "  {'branchName': 'BANGKA RAYA',\n",
       "   'districtName': 'Mampang Prapatan',\n",
       "   'performance_gap': -0.19291254351235032},\n",
       "  {'branchName': 'IKKUDO ICHI - KOKAS',\n",
       "   'districtName': 'Tebet',\n",
       "   'performance_gap': -0.16989111028169285},\n",
       "  {'branchName': 'BCL - BMCC',\n",
       "   'districtName': 'Kebayoran Baru',\n",
       "   'performance_gap': -0.1622385440299766},\n",
       "  {'branchName': 'Kopi Bojo - Wisma Mulia II',\n",
       "   'districtName': 'Mampang Prapatan',\n",
       "   'performance_gap': -0.14994457677244377}],\n",
       " 'best_practice_sources': [{'branchName': 'Shihlin Kota Kasablanka frc',\n",
       "   'districtName': 'Setia Budi',\n",
       "   'performance_gap': 0.3714814183672486},\n",
       "  {'branchName': 'Eatlah Pasar Minggu',\n",
       "   'districtName': 'Pancoran',\n",
       "   'performance_gap': 0.1740428245498581},\n",
       "  {'branchName': 'Sederhana Plaza Festival',\n",
       "   'districtName': 'Setia Budi',\n",
       "   'performance_gap': 0.13841151677765823},\n",
       "  {'branchName': 'Eatlah Plaza Festival',\n",
       "   'districtName': 'Setia Budi',\n",
       "   'performance_gap': 0.12531999483761574},\n",
       "  {'branchName': 'Shaburi Kintan PP',\n",
       "   'districtName': 'Kebayoran Baru',\n",
       "   'performance_gap': 0.1177026053063106}],\n",
       " 'district_insights': {'Cilandak': {'performance_score': 0.081,\n",
       "   'performance_gap': -0.005},\n",
       "  'Jagakarsa': {'performance_score': 0.025, 'performance_gap': 0.004},\n",
       "  'Kebayoran Baru': {'performance_score': 0.292, 'performance_gap': -0.004},\n",
       "  'Mampang Prapatan': {'performance_score': 0.049, 'performance_gap': -0.047},\n",
       "  'Pancoran': {'performance_score': 0.211, 'performance_gap': 0.174},\n",
       "  'Pasar Minggu': {'performance_score': 0.021, 'performance_gap': -0.009},\n",
       "  'Setia Budi': {'performance_score': 0.444, 'performance_gap': 0.025},\n",
       "  'Tebet': {'performance_score': 0.071, 'performance_gap': -0.002}},\n",
       " 'category_insights': {'Alcoholic Beverages': {'performance_score': 0.281,\n",
       "   'performance_gap': 0.01},\n",
       "  'Asian Noodles': {'performance_score': 0.086, 'performance_gap': -0.034},\n",
       "  'Bakery Items': {'performance_score': 0.169, 'performance_gap': -0.018},\n",
       "  'Breakfast': {'performance_score': 0.028, 'performance_gap': 0.005},\n",
       "  'Cake and Desserts': {'performance_score': 0.127, 'performance_gap': -0.022},\n",
       "  'Coffee and Hot Beverages': {'performance_score': 0.289,\n",
       "   'performance_gap': 0.012},\n",
       "  'Combo and Set Meals': {'performance_score': 0.035,\n",
       "   'performance_gap': -0.023},\n",
       "  'Comfort Food': {'performance_score': 0.135, 'performance_gap': -0.002},\n",
       "  'Craft Beverages': {'performance_score': 0.296, 'performance_gap': -0.06},\n",
       "  'Egg Dishes': {'performance_score': 0.36, 'performance_gap': 0.071},\n",
       "  'Fresh Juices': {'performance_score': 0.441, 'performance_gap': -0.007},\n",
       "  'Fresh Seafood': {'performance_score': 0.303, 'performance_gap': -0.049},\n",
       "  'Fried and Crispy': {'performance_score': 0.152, 'performance_gap': 0.009},\n",
       "  'Japanese Fried Chicken': {'performance_score': 0.195,\n",
       "   'performance_gap': -0.063},\n",
       "  'Local and International Food': {'performance_score': 0.049,\n",
       "   'performance_gap': -0.011},\n",
       "  'Other Beverages': {'performance_score': 0.111, 'performance_gap': -0.024},\n",
       "  'Others': {'performance_score': 0.164, 'performance_gap': -0.015},\n",
       "  'Packaging and Accessories': {'performance_score': 0.231,\n",
       "   'performance_gap': 0.003},\n",
       "  'Pizza and Western Snacks': {'performance_score': 0.03,\n",
       "   'performance_gap': 0.006},\n",
       "  'Salads and Bowls': {'performance_score': 0.395, 'performance_gap': -0.014},\n",
       "  'Snacks and Sides': {'performance_score': 0.223, 'performance_gap': -0.021},\n",
       "  'Soft Drinks': {'performance_score': 0.213, 'performance_gap': -0.009},\n",
       "  'Tea and Traditional Drinks': {'performance_score': 0.128,\n",
       "   'performance_gap': 0.063},\n",
       "  'Teppanyaki and Steaks': {'performance_score': 0.213,\n",
       "   'performance_gap': 0.018},\n",
       "  'Thai Appetizers and Salads': {'performance_score': 0.187,\n",
       "   'performance_gap': 0.006},\n",
       "  'Thai Curry and Soup': {'performance_score': 0.104, 'performance_gap': 0.02},\n",
       "  'Thai Main Dishes': {'performance_score': 0.341, 'performance_gap': 0.025}}}"
      ]
     },
     "execution_count": 5,
     "metadata": {},
     "output_type": "execute_result"
    }
   ],
   "source": [
    "# 2. Portfolio analysis\n",
    "portfolio = ml_system.analyze_portfolio()\n",
    "portfolio"
   ]
  },
  {
   "cell_type": "code",
   "execution_count": 6,
   "id": "b29269c7-b89a-4f34-a61d-672d2134e319",
   "metadata": {},
   "outputs": [
    {
     "name": "stderr",
     "output_type": "stream",
     "text": [
      "C:\\Users\\ESB\\miniconda3\\Lib\\site-packages\\sklearn\\utils\\validation.py:2749: UserWarning: X does not have valid feature names, but StandardScaler was fitted with feature names\n",
      "  warnings.warn(\n",
      "C:\\Users\\ESB\\miniconda3\\Lib\\site-packages\\sklearn\\utils\\validation.py:2749: UserWarning: X does not have valid feature names, but StandardScaler was fitted with feature names\n",
      "  warnings.warn(\n"
     ]
    },
    {
     "data": {
      "text/plain": [
       "[{'location': {'coordinates': (-6.225, 106.825),\n",
       "   'district': 'Setia Budi',\n",
       "   'category': 'Coffee and Hot Beverages'},\n",
       "  'spatial_score': {'score': np.float64(0.42),\n",
       "   'level': 'High',\n",
       "   'confidence': 'Medium'},\n",
       "  'key_factors': {'distance_to_kemang_km': 6.95,\n",
       "   'distance_to_cbd_km': 3.58,\n",
       "   'distance_to_senayan_km': 2.97,\n",
       "   'competitors_1km': 26,\n",
       "   'market_intensity_billions': 2.65},\n",
       "  'recommendation': '🟢 RECOMMENDED: Good potential location',\n",
       "  'spatial_insights': ['High market activity area',\n",
       "   'Strong market demand indicated']},\n",
       " {'location': {'coordinates': (-6.235, 106.805),\n",
       "   'district': 'Kebayoran Baru',\n",
       "   'category': 'Fresh Juices'},\n",
       "  'spatial_score': {'score': np.float64(0.264),\n",
       "   'level': 'Medium',\n",
       "   'confidence': 'Medium'},\n",
       "  'key_factors': {'distance_to_kemang_km': 4.98,\n",
       "   'distance_to_cbd_km': 1.79,\n",
       "   'distance_to_senayan_km': 1.21,\n",
       "   'competitors_1km': 8,\n",
       "   'market_intensity_billions': 0.56},\n",
       "  'recommendation': '🟡 CONSIDER: Moderate potential, validate with research',\n",
       "  'spatial_insights': ['Near main business district',\n",
       "   'High market activity area']}]"
      ]
     },
     "execution_count": 6,
     "metadata": {},
     "output_type": "execute_result"
    }
   ],
   "source": [
    "# 3. Compare multiple locations\n",
    "locations = [(-6.235, 106.805, 'Kebayoran Baru', 'Fresh Juices'),\n",
    "             (-6.225, 106.825, 'Setia Budi', 'Coffee and Hot Beverages')]\n",
    "comparison = ml_system.compare_locations(locations)\n",
    "comparison"
   ]
  },
  {
   "cell_type": "code",
   "execution_count": 7,
   "id": "7c7cffaf-62d3-40f6-b14b-85dce1445135",
   "metadata": {},
   "outputs": [
    {
     "data": {
      "text/plain": [
       "[{'district': 'Setia Budi', 'avg_performance': 0.444, 'existing_branches': 0},\n",
       " {'district': 'Kebayoran Baru',\n",
       "  'avg_performance': 0.292,\n",
       "  'existing_branches': 0},\n",
       " {'district': 'Pancoran', 'avg_performance': 0.211, 'existing_branches': 0}]"
      ]
     },
     "execution_count": 7,
     "metadata": {},
     "output_type": "execute_result"
    }
   ],
   "source": [
    "# 4. Find best districts for category\n",
    "districts = ml_system.find_optimal_districts('Japanese Cuisine')\n",
    "districts"
   ]
  },
  {
   "cell_type": "code",
   "execution_count": 8,
   "id": "dbc283db-7ad1-4e94-b3a4-359ddb791bff",
   "metadata": {},
   "outputs": [
    {
     "name": "stderr",
     "output_type": "stream",
     "text": [
      "C:\\Users\\ESB\\miniconda3\\Lib\\site-packages\\sklearn\\utils\\validation.py:2749: UserWarning: X does not have valid feature names, but StandardScaler was fitted with feature names\n",
      "  warnings.warn(\n",
      "C:\\Users\\ESB\\miniconda3\\Lib\\site-packages\\sklearn\\utils\\validation.py:2749: UserWarning: X does not have valid feature names, but StandardScaler was fitted with feature names\n",
      "  warnings.warn(\n",
      "C:\\Users\\ESB\\miniconda3\\Lib\\site-packages\\sklearn\\utils\\validation.py:2749: UserWarning: X does not have valid feature names, but StandardScaler was fitted with feature names\n",
      "  warnings.warn(\n"
     ]
    },
    {
     "data": {
      "text/plain": [
       "{'executive_summary': {'target_new_branches': 3,\n",
       "  'focus_categories': ['Fresh Juices',\n",
       "   'Salads and Bowls',\n",
       "   'Coffee and Hot Beverages'],\n",
       "  'recommended_districts': ['Setia Budi', 'Kebayoran Baru'],\n",
       "  'total_investment_estimate': '1500M - 2400M IDR'},\n",
       " 'portfolio_optimization': {'current_performance': {'total_branches': 169,\n",
       "   'avg_performance': np.float64(0.201),\n",
       "   'avg_potential': np.float64(0.202),\n",
       "   'optimization_gap': np.float64(-0.237)},\n",
       "  'optimization_candidates': 5,\n",
       "  'best_practice_sources': 5},\n",
       " 'category_opportunities': [{'category': 'Fresh Juices',\n",
       "   'optimal_districts': [{'district': 'Setia Budi',\n",
       "     'avg_performance': 0.441,\n",
       "     'existing_branches': 1}]},\n",
       "  {'category': 'Salads and Bowls',\n",
       "   'optimal_districts': [{'district': 'Kebayoran Baru',\n",
       "     'avg_performance': 0.395,\n",
       "     'existing_branches': 1}]},\n",
       "  {'category': 'Coffee and Hot Beverages',\n",
       "   'optimal_districts': [{'district': 'Setia Budi',\n",
       "     'avg_performance': 0.444,\n",
       "     'existing_branches': 5},\n",
       "    {'district': 'Kebayoran Baru',\n",
       "     'avg_performance': 0.331,\n",
       "     'existing_branches': 7}]}],\n",
       " 'location_recommendations': [{'location': {'coordinates': (-6.225, 106.825),\n",
       "    'district': 'Setia Budi',\n",
       "    'category': 'Fresh Juices'},\n",
       "   'spatial_score': {'score': np.float64(0.42),\n",
       "    'level': 'High',\n",
       "    'confidence': 'Medium'},\n",
       "   'key_factors': {'distance_to_kemang_km': 6.95,\n",
       "    'distance_to_cbd_km': 3.58,\n",
       "    'distance_to_senayan_km': 2.97,\n",
       "    'competitors_1km': 26,\n",
       "    'market_intensity_billions': 2.65},\n",
       "   'recommendation': '🟢 RECOMMENDED: Good potential location',\n",
       "   'spatial_insights': ['High market activity area',\n",
       "    'Strong market demand indicated']},\n",
       "  {'location': {'coordinates': (-6.235, 106.805),\n",
       "    'district': 'Kebayoran Baru',\n",
       "    'category': 'Salads and Bowls'},\n",
       "   'spatial_score': {'score': np.float64(0.279),\n",
       "    'level': 'Medium',\n",
       "    'confidence': 'Medium'},\n",
       "   'key_factors': {'distance_to_kemang_km': 4.98,\n",
       "    'distance_to_cbd_km': 1.79,\n",
       "    'distance_to_senayan_km': 1.21,\n",
       "    'competitors_1km': 8,\n",
       "    'market_intensity_billions': 0.56},\n",
       "   'recommendation': '🟡 CONSIDER: Moderate potential, validate with research',\n",
       "   'spatial_insights': ['Near main business district',\n",
       "    'High market activity area']},\n",
       "  {'location': {'coordinates': (-6.245, 106.795),\n",
       "    'district': 'Kebayoran Baru',\n",
       "    'category': 'Coffee and Hot Beverages'},\n",
       "   'spatial_score': {'score': np.float64(0.257),\n",
       "    'level': 'Medium',\n",
       "    'confidence': 'Medium'},\n",
       "   'key_factors': {'distance_to_kemang_km': 3.65,\n",
       "    'distance_to_cbd_km': 2.27,\n",
       "    'distance_to_senayan_km': 2.09,\n",
       "    'competitors_1km': 16,\n",
       "    'market_intensity_billions': 0.59},\n",
       "   'recommendation': '🟡 CONSIDER: Moderate potential, validate with research',\n",
       "   'spatial_insights': ['Near main business district',\n",
       "    'High market activity area']}],\n",
       " 'risk_assessment': {'model_confidence': 'Medium (R² = 0.451-0.464)',\n",
       "  'market_risk': 'Low-Medium',\n",
       "  'competition_risk': 'Medium',\n",
       "  'location_risk': 'Medium - validate with market research'},\n",
       " 'next_steps': ['Validate top locations with field research',\n",
       "  'Analyze foot traffic patterns',\n",
       "  'Study local competition details',\n",
       "  'Optimize underperforming existing branches']}"
      ]
     },
     "execution_count": 8,
     "metadata": {},
     "output_type": "execute_result"
    }
   ],
   "source": [
    "# 5. Generate expansion report\n",
    "report = ml_system.generate_expansion_report(target_branches=3)\n",
    "report"
   ]
  },
  {
   "cell_type": "code",
   "execution_count": 9,
   "id": "1d79d682-2acb-4ee6-9a5a-c3ee63b88085",
   "metadata": {},
   "outputs": [
    {
     "name": "stdout",
     "output_type": "stream",
     "text": [
      "🎯 Restaurant Location ML System Loaded\n",
      "📊 Spatial Model: R² = 0.451\n",
      "📊 Portfolio Model: R² = 0.464\n",
      "✅ Using accurate landmark coordinates\n",
      "\n",
      "1. SCORE SINGLE LOCATION:\n"
     ]
    },
    {
     "name": "stderr",
     "output_type": "stream",
     "text": [
      "C:\\Users\\ESB\\miniconda3\\Lib\\site-packages\\sklearn\\utils\\validation.py:2749: UserWarning: X does not have valid feature names, but StandardScaler was fitted with feature names\n",
      "  warnings.warn(\n"
     ]
    },
    {
     "name": "stdout",
     "output_type": "stream",
     "text": [
      "Score: 0.264\n",
      "Level: Medium\n",
      "Recommendation: 🟡 CONSIDER: Moderate potential, validate with research\n",
      "\n",
      "2. PORTFOLIO ANALYSIS:\n",
      "Total branches: 169\n",
      "Avg performance: 0.201\n",
      "Top performer: Shaburi Kintan PP\n",
      "\n",
      "3. COMPARE LOCATIONS:\n"
     ]
    },
    {
     "name": "stderr",
     "output_type": "stream",
     "text": [
      "C:\\Users\\ESB\\miniconda3\\Lib\\site-packages\\sklearn\\utils\\validation.py:2749: UserWarning: X does not have valid feature names, but StandardScaler was fitted with feature names\n",
      "  warnings.warn(\n",
      "C:\\Users\\ESB\\miniconda3\\Lib\\site-packages\\sklearn\\utils\\validation.py:2749: UserWarning: X does not have valid feature names, but StandardScaler was fitted with feature names\n",
      "  warnings.warn(\n"
     ]
    },
    {
     "name": "stdout",
     "output_type": "stream",
     "text": [
      "1. Setia Budi - Coffee and Hot Beverages\n",
      "   Score: 0.42 (High)\n",
      "2. Kebayoran Baru - Fresh Juices\n",
      "   Score: 0.264 (Medium)\n",
      "\n",
      "4. BEST DISTRICTS FOR Japanese Cuisine:\n",
      "1. Setia Budi: 0.444\n",
      "2. Kebayoran Baru: 0.292\n",
      "3. Pancoran: 0.211\n",
      "\n",
      "5. EXPANSION REPORT:\n"
     ]
    },
    {
     "name": "stderr",
     "output_type": "stream",
     "text": [
      "C:\\Users\\ESB\\miniconda3\\Lib\\site-packages\\sklearn\\utils\\validation.py:2749: UserWarning: X does not have valid feature names, but StandardScaler was fitted with feature names\n",
      "  warnings.warn(\n",
      "C:\\Users\\ESB\\miniconda3\\Lib\\site-packages\\sklearn\\utils\\validation.py:2749: UserWarning: X does not have valid feature names, but StandardScaler was fitted with feature names\n",
      "  warnings.warn(\n"
     ]
    },
    {
     "name": "stdout",
     "output_type": "stream",
     "text": [
      "Target branches: 3\n",
      "Recommended districts: ['Setia Budi', 'Kebayoran Baru']\n",
      "\n",
      "✅ ALL FUNCTIONS TESTED!\n"
     ]
    },
    {
     "name": "stderr",
     "output_type": "stream",
     "text": [
      "C:\\Users\\ESB\\miniconda3\\Lib\\site-packages\\sklearn\\utils\\validation.py:2749: UserWarning: X does not have valid feature names, but StandardScaler was fitted with feature names\n",
      "  warnings.warn(\n"
     ]
    }
   ],
   "source": [
    "# Initialize\n",
    "ml_system = RestaurantLocationML('final_model_updated')\n",
    "\n",
    "# 1. Score single location\n",
    "print(\"\\n1. SCORE SINGLE LOCATION:\")\n",
    "result = ml_system.score_new_location(-6.235, 106.805, 'Kebayoran Baru', 'Fresh Juices')\n",
    "print(f\"Score: {result['spatial_score']['score']}\")\n",
    "print(f\"Level: {result['spatial_score']['level']}\")\n",
    "print(f\"Recommendation: {result['recommendation']}\")\n",
    "\n",
    "# 2. Portfolio analysis\n",
    "print(\"\\n2. PORTFOLIO ANALYSIS:\")\n",
    "portfolio = ml_system.analyze_portfolio()\n",
    "print(f\"Total branches: {portfolio['portfolio_summary']['total_branches']}\")\n",
    "print(f\"Avg performance: {portfolio['portfolio_summary']['avg_performance']}\")\n",
    "print(f\"Top performer: {portfolio['top_performers'][0]['branchName']}\")\n",
    "\n",
    "# 3. Compare multiple locations\n",
    "print(\"\\n3. COMPARE LOCATIONS:\")\n",
    "locations = [(-6.235, 106.805, 'Kebayoran Baru', 'Fresh Juices'),\n",
    "             (-6.225, 106.825, 'Setia Budi', 'Coffee and Hot Beverages')]\n",
    "comparison = ml_system.compare_locations(locations)\n",
    "\n",
    "for i, loc in enumerate(comparison, 1):\n",
    "    print(f\"{i}. {loc['location']['district']} - {loc['location']['category']}\")\n",
    "    print(f\"   Score: {loc['spatial_score']['score']} ({loc['spatial_score']['level']})\")\n",
    "\n",
    "# 4. Find best districts for category\n",
    "print(\"\\n4. BEST DISTRICTS FOR Japanese Cuisine:\")\n",
    "districts = ml_system.find_optimal_districts('Japanese Cuisine')\n",
    "for i, district in enumerate(districts, 1):\n",
    "    print(f\"{i}. {district['district']}: {district['avg_performance']}\")\n",
    "\n",
    "# 5. Generate expansion report\n",
    "print(\"\\n5. EXPANSION REPORT:\")\n",
    "try:\n",
    "    report = ml_system.generate_expansion_report(target_branches=3)\n",
    "    print(f\"Target branches: {report['executive_summary']['target_new_branches']}\")\n",
    "    print(f\"Recommended districts: {report['executive_summary']['recommended_districts']}\")\n",
    "except Exception as e:\n",
    "    print(f\"Error: {e}\")\n",
    "\n",
    "print(\"\\n✅ ALL FUNCTIONS TESTED!\")"
   ]
  },
  {
   "cell_type": "code",
   "execution_count": 18,
   "id": "c974f5bd-295c-409e-9c96-46ba790aa70b",
   "metadata": {
    "scrolled": true
   },
   "outputs": [
    {
     "name": "stdout",
     "output_type": "stream",
     "text": [
      "🎯 Restaurant Location ML System Loaded\n",
      "📊 Spatial Model: R² = 0.451\n",
      "📊 Portfolio Model: R² = 0.464\n",
      "✅ Using accurate landmark coordinates\n",
      "\n",
      "🎯 INTERACTIVE RESTAURANT LOCATION ANALYZER\n",
      "============================================================\n",
      "\n",
      "📋 PILIH MENU:\n",
      "1. Score Single Location (Input Manual)\n",
      "2. Portfolio Analysis\n",
      "3. Compare Multiple Locations\n",
      "4. Find Best Districts untuk Category\n",
      "5. Generate Expansion Report\n",
      "6. Exit\n"
     ]
    },
    {
     "name": "stdin",
     "output_type": "stream",
     "text": [
      "\n",
      "Pilih menu (1-6):  1\n"
     ]
    },
    {
     "name": "stdout",
     "output_type": "stream",
     "text": [
      "\n",
      "📍 SCORE SINGLE LOCATION\n",
      "----------------------------------------\n",
      "Masukkan koordinat lokasi:\n"
     ]
    },
    {
     "name": "stdin",
     "output_type": "stream",
     "text": [
      "Latitude (contoh: -6.235):  -6.235\n",
      "Longitude (contoh: 106.805):  106.805\n"
     ]
    },
    {
     "name": "stdout",
     "output_type": "stream",
     "text": [
      "\n",
      "Available Districts:\n",
      "1. Kebayoran Baru\n",
      "2. Setia Budi\n",
      "3. Cilandak\n",
      "4. Tebet\n",
      "5. Mampang Prapatan\n",
      "6. Pasar Minggu\n",
      "7. Jagakarsa\n",
      "8. Pancoran\n"
     ]
    },
    {
     "name": "stdin",
     "output_type": "stream",
     "text": [
      "Pilih district (1-8):  4\n"
     ]
    },
    {
     "name": "stdout",
     "output_type": "stream",
     "text": [
      "\n",
      "Popular Categories:\n",
      "1. Fresh Juices\n",
      "2. Coffee and Hot Beverages\n",
      "3. Japanese Cuisine\n",
      "4. Indonesian Traditional\n",
      "5. Salads and Bowls\n",
      "6. Fresh Seafood\n",
      "7. Thai Food\n",
      "8. Comfort Food\n",
      "9. Bakery Items\n",
      "10. Tea and Traditional Drinks\n"
     ]
    },
    {
     "name": "stdin",
     "output_type": "stream",
     "text": [
      "Pilih category (1-10):  2\n"
     ]
    },
    {
     "name": "stdout",
     "output_type": "stream",
     "text": [
      "\n",
      "🔄 Scoring location...\n"
     ]
    },
    {
     "name": "stderr",
     "output_type": "stream",
     "text": [
      "C:\\Users\\ESB\\miniconda3\\Lib\\site-packages\\sklearn\\utils\\validation.py:2749: UserWarning: X does not have valid feature names, but StandardScaler was fitted with feature names\n",
      "  warnings.warn(\n"
     ]
    },
    {
     "name": "stdout",
     "output_type": "stream",
     "text": [
      "\n",
      "✅ HASIL SCORING:\n",
      "📍 Location: (-6.235, 106.805) - Tebet\n",
      "🍽️ Category: Coffee and Hot Beverages\n",
      "📊 Score: 0.255\n",
      "🏆 Level: Medium\n",
      "💡 Recommendation: 🟡 CONSIDER: Moderate potential, validate with research\n",
      "🗺️ Distance to Kemang: 4.98 km\n",
      "🏢 Distance to CBD: 1.79 km\n",
      "🏪 Competitors in 1km: 8\n",
      "\n",
      "📋 PILIH MENU:\n",
      "1. Score Single Location (Input Manual)\n",
      "2. Portfolio Analysis\n",
      "3. Compare Multiple Locations\n",
      "4. Find Best Districts untuk Category\n",
      "5. Generate Expansion Report\n",
      "6. Exit\n"
     ]
    },
    {
     "name": "stdin",
     "output_type": "stream",
     "text": [
      "\n",
      "Pilih menu (1-6):  4\n"
     ]
    },
    {
     "name": "stdout",
     "output_type": "stream",
     "text": [
      "\n",
      "🗺️ FIND BEST DISTRICTS FOR CATEGORY\n",
      "----------------------------------------\n"
     ]
    },
    {
     "name": "stdin",
     "output_type": "stream",
     "text": [
      "Masukkan category restoran:  6\n",
      "Berapa districts terbaik? (1-5):  3\n"
     ]
    },
    {
     "name": "stdout",
     "output_type": "stream",
     "text": [
      "\n",
      "✅ BEST DISTRICTS FOR 6:\n",
      "1. Setia Budi: Performance 0.444\n",
      "   Existing branches: 0\n",
      "2. Kebayoran Baru: Performance 0.292\n",
      "   Existing branches: 0\n",
      "3. Pancoran: Performance 0.211\n",
      "   Existing branches: 0\n",
      "\n",
      "📋 PILIH MENU:\n",
      "1. Score Single Location (Input Manual)\n",
      "2. Portfolio Analysis\n",
      "3. Compare Multiple Locations\n",
      "4. Find Best Districts untuk Category\n",
      "5. Generate Expansion Report\n",
      "6. Exit\n"
     ]
    },
    {
     "name": "stdin",
     "output_type": "stream",
     "text": [
      "\n",
      "Pilih menu (1-6):  5\n"
     ]
    },
    {
     "name": "stdout",
     "output_type": "stream",
     "text": [
      "\n",
      "📋 GENERATE EXPANSION REPORT\n",
      "----------------------------------------\n"
     ]
    },
    {
     "name": "stdin",
     "output_type": "stream",
     "text": [
      "Target jumlah cabang baru:  2\n",
      "Focus categories (pisah dengan koma, atau kosong untuk default):  2\n"
     ]
    },
    {
     "name": "stdout",
     "output_type": "stream",
     "text": [
      "\n",
      "🔄 Generating expansion report...\n"
     ]
    },
    {
     "name": "stderr",
     "output_type": "stream",
     "text": [
      "C:\\Users\\ESB\\miniconda3\\Lib\\site-packages\\sklearn\\utils\\validation.py:2749: UserWarning: X does not have valid feature names, but StandardScaler was fitted with feature names\n",
      "  warnings.warn(\n",
      "C:\\Users\\ESB\\miniconda3\\Lib\\site-packages\\sklearn\\utils\\validation.py:2749: UserWarning: X does not have valid feature names, but StandardScaler was fitted with feature names\n",
      "  warnings.warn(\n"
     ]
    },
    {
     "name": "stdout",
     "output_type": "stream",
     "text": [
      "\n",
      "✅ EXPANSION REPORT:\n",
      "🎯 Target branches: 2\n",
      "🗺️ Recommended districts: ['Setia Budi', 'Kebayoran Baru']\n",
      "💰 Investment estimate: 1000M - 1600M IDR\n",
      "\n",
      "⚠️ RISK ASSESSMENT:\n",
      "Model confidence: Medium (R² = 0.451-0.464)\n",
      "Market risk: Low-Medium\n",
      "\n",
      "📋 PILIH MENU:\n",
      "1. Score Single Location (Input Manual)\n",
      "2. Portfolio Analysis\n",
      "3. Compare Multiple Locations\n",
      "4. Find Best Districts untuk Category\n",
      "5. Generate Expansion Report\n",
      "6. Exit\n"
     ]
    },
    {
     "name": "stdin",
     "output_type": "stream",
     "text": [
      "\n",
      "Pilih menu (1-6):  6\n"
     ]
    },
    {
     "name": "stdout",
     "output_type": "stream",
     "text": [
      "👋 Terima kasih!\n"
     ]
    }
   ],
   "source": [
    "###### from restaurant_recomendation_v1 import RestaurantLocationML\n",
    "\n",
    "# Initialize\n",
    "ml_system = RestaurantLocationML('final_model_updated')\n",
    "\n",
    "def interactive_restaurant_analyzer():\n",
    "   \"\"\"Interactive Restaurant Location Analyzer\"\"\"\n",
    "   \n",
    "   print(\"\\n🎯 INTERACTIVE RESTAURANT LOCATION ANALYZER\")\n",
    "   print(\"=\" * 60)\n",
    "   \n",
    "   while True:\n",
    "       print(\"\\n📋 PILIH MENU:\")\n",
    "       print(\"1. Score Single Location (Input Manual)\")\n",
    "       print(\"2. Portfolio Analysis\")\n",
    "       print(\"3. Compare Multiple Locations\")\n",
    "       print(\"4. Find Best Districts untuk Category\")\n",
    "       print(\"5. Generate Expansion Report\")\n",
    "       print(\"6. Exit\")\n",
    "       \n",
    "       choice = input(\"\\nPilih menu (1-6): \").strip()\n",
    "       \n",
    "       if choice == '1':\n",
    "           interactive_single_location()\n",
    "       elif choice == '2':\n",
    "           interactive_portfolio_analysis()\n",
    "       elif choice == '3':\n",
    "           interactive_compare_locations()\n",
    "       elif choice == '4':\n",
    "           interactive_best_districts()\n",
    "       elif choice == '5':\n",
    "           interactive_expansion_report()\n",
    "       elif choice == '6':\n",
    "           print(\"👋 Terima kasih!\")\n",
    "           break\n",
    "       else:\n",
    "           print(\"❌ Pilihan tidak valid!\")\n",
    "\n",
    "def interactive_single_location():\n",
    "   \"\"\"Interactive single location scoring\"\"\"\n",
    "   \n",
    "   print(\"\\n📍 SCORE SINGLE LOCATION\")\n",
    "   print(\"-\" * 40)\n",
    "   \n",
    "   # Input coordinates\n",
    "   print(\"Masukkan koordinat lokasi:\")\n",
    "   try:\n",
    "       latitude = float(input(\"Latitude (contoh: -6.235): \"))\n",
    "       longitude = float(input(\"Longitude (contoh: 106.805): \"))\n",
    "   except ValueError:\n",
    "       print(\"❌ Format koordinat salah!\")\n",
    "       return\n",
    "   \n",
    "   # Input district\n",
    "   available_districts = ['Kebayoran Baru', 'Setia Budi', 'Cilandak', 'Tebet', \n",
    "                         'Mampang Prapatan', 'Pasar Minggu', 'Jagakarsa', 'Pancoran']\n",
    "   \n",
    "   print(f\"\\nAvailable Districts:\")\n",
    "   for i, district in enumerate(available_districts, 1):\n",
    "       print(f\"{i}. {district}\")\n",
    "   \n",
    "   try:\n",
    "       district_choice = int(input(\"Pilih district (1-8): \")) - 1\n",
    "       district = available_districts[district_choice]\n",
    "   except (ValueError, IndexError):\n",
    "       print(\"❌ Pilihan district salah!\")\n",
    "       return\n",
    "   \n",
    "   # Input category\n",
    "   popular_categories = ['Fresh Juices', 'Coffee and Hot Beverages', 'Japanese Cuisine',\n",
    "                        'Indonesian Traditional', 'Salads and Bowls', 'Fresh Seafood',\n",
    "                        'Thai Food', 'Comfort Food', 'Bakery Items', 'Tea and Traditional Drinks']\n",
    "   \n",
    "   print(f\"\\nPopular Categories:\")\n",
    "   for i, category in enumerate(popular_categories, 1):\n",
    "       print(f\"{i}. {category}\")\n",
    "   \n",
    "   try:\n",
    "       category_choice = int(input(\"Pilih category (1-10): \")) - 1\n",
    "       category = popular_categories[category_choice]\n",
    "   except (ValueError, IndexError):\n",
    "       print(\"❌ Pilihan category salah!\")\n",
    "       return\n",
    "   \n",
    "   # Score location\n",
    "   print(f\"\\n🔄 Scoring location...\")\n",
    "   result = ml_system.score_new_location(latitude, longitude, district, category)\n",
    "   \n",
    "   # Display results\n",
    "   print(f\"\\n✅ HASIL SCORING:\")\n",
    "   print(f\"📍 Location: ({latitude}, {longitude}) - {district}\")\n",
    "   print(f\"🍽️ Category: {category}\")\n",
    "   print(f\"📊 Score: {result['spatial_score']['score']}\")\n",
    "   print(f\"🏆 Level: {result['spatial_score']['level']}\")\n",
    "   print(f\"💡 Recommendation: {result['recommendation']}\")\n",
    "   print(f\"🗺️ Distance to Kemang: {result['key_factors']['distance_to_kemang_km']} km\")\n",
    "   print(f\"🏢 Distance to CBD: {result['key_factors']['distance_to_cbd_km']} km\")\n",
    "   print(f\"🏪 Competitors in 1km: {result['key_factors']['competitors_1km']}\")\n",
    "\n",
    "def interactive_portfolio_analysis():\n",
    "   \"\"\"Interactive portfolio analysis\"\"\"\n",
    "   \n",
    "   print(\"\\n📊 PORTFOLIO ANALYSIS\")\n",
    "   print(\"-\" * 40)\n",
    "   \n",
    "   portfolio = ml_system.analyze_portfolio()\n",
    "   \n",
    "   print(f\"📈 PORTFOLIO SUMMARY:\")\n",
    "   print(f\"Total branches: {portfolio['portfolio_summary']['total_branches']}\")\n",
    "   print(f\"Average performance: {portfolio['portfolio_summary']['avg_performance']:.3f}\")\n",
    "   print(f\"Optimization gap: {portfolio['portfolio_summary']['optimization_gap']:.3f}\")\n",
    "   \n",
    "   print(f\"\\n🏆 TOP 5 PERFORMERS:\")\n",
    "   for i, branch in enumerate(portfolio['top_performers'][:5], 1):\n",
    "       print(f\"{i}. {branch['branchName']} - {branch['districtName']} (Score: {branch['performance_score']:.3f})\")\n",
    "   \n",
    "   print(f\"\\n⚠️ OPTIMIZATION CANDIDATES:\")\n",
    "   for i, branch in enumerate(portfolio['optimization_candidates'][:5], 1):\n",
    "       print(f\"{i}. {branch['branchName']} - {branch['districtName']} (Gap: {branch['performance_gap']:.3f})\")\n",
    "\n",
    "def interactive_compare_locations():\n",
    "   \"\"\"Interactive location comparison\"\"\"\n",
    "   \n",
    "   print(\"\\n🔍 COMPARE MULTIPLE LOCATIONS\")\n",
    "   print(\"-\" * 40)\n",
    "   \n",
    "   locations = []\n",
    "   num_locations = int(input(\"Berapa lokasi yang ingin dibandingkan? (2-5): \"))\n",
    "   \n",
    "   for i in range(num_locations):\n",
    "       print(f\"\\n📍 LOKASI {i+1}:\")\n",
    "       try:\n",
    "           lat = float(input(f\"Latitude: \"))\n",
    "           lng = float(input(f\"Longitude: \"))\n",
    "           district = input(f\"District: \")\n",
    "           category = input(f\"Category: \")\n",
    "           locations.append((lat, lng, district, category))\n",
    "       except ValueError:\n",
    "           print(\"❌ Input salah, skip lokasi ini\")\n",
    "           continue\n",
    "   \n",
    "   if len(locations) < 2:\n",
    "       print(\"❌ Minimal 2 lokasi untuk comparison!\")\n",
    "       return\n",
    "   \n",
    "   print(f\"\\n🔄 Comparing {len(locations)} locations...\")\n",
    "   comparison = ml_system.compare_locations(locations)\n",
    "   \n",
    "   print(f\"\\n✅ HASIL COMPARISON (ranked by score):\")\n",
    "   for i, loc in enumerate(comparison, 1):\n",
    "       print(f\"{i}. {loc['location']['district']} - {loc['location']['category']}\")\n",
    "       print(f\"   Score: {loc['spatial_score']['score']} ({loc['spatial_score']['level']})\")\n",
    "       print(f\"   {loc['recommendation']}\")\n",
    "\n",
    "def interactive_best_districts():\n",
    "   \"\"\"Interactive best districts finder\"\"\"\n",
    "   \n",
    "   print(\"\\n🗺️ FIND BEST DISTRICTS FOR CATEGORY\")\n",
    "   print(\"-\" * 40)\n",
    "   \n",
    "   category = input(\"Masukkan category restoran: \")\n",
    "   num_districts = int(input(\"Berapa districts terbaik? (1-5): \"))\n",
    "   \n",
    "   try:\n",
    "       districts = ml_system.find_optimal_districts(category, num_districts)\n",
    "       \n",
    "       print(f\"\\n✅ BEST DISTRICTS FOR {category}:\")\n",
    "       for i, district in enumerate(districts, 1):\n",
    "           print(f\"{i}. {district['district']}: Performance {district['avg_performance']:.3f}\")\n",
    "           print(f\"   Existing branches: {district['existing_branches']}\")\n",
    "   except Exception as e:\n",
    "       print(f\"❌ Error: {e}\")\n",
    "\n",
    "def interactive_expansion_report():\n",
    "   \"\"\"Interactive expansion report\"\"\"\n",
    "   \n",
    "   print(\"\\n📋 GENERATE EXPANSION REPORT\")\n",
    "   print(\"-\" * 40)\n",
    "   \n",
    "   target_branches = int(input(\"Target jumlah cabang baru: \"))\n",
    "   \n",
    "   focus_categories_input = input(\"Focus categories (pisah dengan koma, atau kosong untuk default): \")\n",
    "   if focus_categories_input.strip():\n",
    "       focus_categories = [cat.strip() for cat in focus_categories_input.split(',')]\n",
    "   else:\n",
    "       focus_categories = None\n",
    "   \n",
    "   try:\n",
    "       print(f\"\\n🔄 Generating expansion report...\")\n",
    "       report = ml_system.generate_expansion_report(target_branches, focus_categories)\n",
    "       \n",
    "       print(f\"\\n✅ EXPANSION REPORT:\")\n",
    "       exec_summary = report['executive_summary']\n",
    "       print(f\"🎯 Target branches: {exec_summary['target_new_branches']}\")\n",
    "       print(f\"🗺️ Recommended districts: {exec_summary['recommended_districts']}\")\n",
    "       print(f\"💰 Investment estimate: {exec_summary['total_investment_estimate']}\")\n",
    "       \n",
    "       if 'risk_assessment' in report:\n",
    "           print(f\"\\n⚠️ RISK ASSESSMENT:\")\n",
    "           risk = report['risk_assessment']\n",
    "           print(f\"Model confidence: {risk['model_confidence']}\")\n",
    "           print(f\"Market risk: {risk['market_risk']}\")\n",
    "       \n",
    "   except Exception as e:\n",
    "       print(f\"❌ Error generating report: {e}\")\n",
    "\n",
    "# Run interactive analyzer\n",
    "if __name__ == \"__main__\":\n",
    "   interactive_restaurant_analyzer()"
   ]
  },
  {
   "cell_type": "markdown",
   "id": "a28a970f-59b8-466c-8099-a4d0979c7187",
   "metadata": {},
   "source": [
    "detail generate expansion export"
   ]
  },
  {
   "cell_type": "code",
   "execution_count": 10,
   "id": "abc8a8b9-b0da-44a5-91d8-e8866d3211cb",
   "metadata": {},
   "outputs": [
    {
     "name": "stderr",
     "output_type": "stream",
     "text": [
      "C:\\Users\\ESB\\miniconda3\\Lib\\site-packages\\sklearn\\utils\\validation.py:2749: UserWarning: X does not have valid feature names, but StandardScaler was fitted with feature names\n",
      "  warnings.warn(\n"
     ]
    },
    {
     "name": "stdout",
     "output_type": "stream",
     "text": [
      "Setia Budi - Fresh Juices: Score 0.42\n"
     ]
    },
    {
     "name": "stderr",
     "output_type": "stream",
     "text": [
      "C:\\Users\\ESB\\miniconda3\\Lib\\site-packages\\sklearn\\utils\\validation.py:2749: UserWarning: X does not have valid feature names, but StandardScaler was fitted with feature names\n",
      "  warnings.warn(\n"
     ]
    },
    {
     "name": "stdout",
     "output_type": "stream",
     "text": [
      "Kebayoran Baru - Coffee and Hot Beverages: Score 0.255\n"
     ]
    },
    {
     "name": "stderr",
     "output_type": "stream",
     "text": [
      "C:\\Users\\ESB\\miniconda3\\Lib\\site-packages\\sklearn\\utils\\validation.py:2749: UserWarning: X does not have valid feature names, but StandardScaler was fitted with feature names\n",
      "  warnings.warn(\n"
     ]
    },
    {
     "name": "stdout",
     "output_type": "stream",
     "text": [
      "Setia Budi - Salads and Bowls: Score 0.407\n"
     ]
    },
    {
     "name": "stderr",
     "output_type": "stream",
     "text": [
      "C:\\Users\\ESB\\miniconda3\\Lib\\site-packages\\sklearn\\utils\\validation.py:2749: UserWarning: X does not have valid feature names, but StandardScaler was fitted with feature names\n",
      "  warnings.warn(\n"
     ]
    },
    {
     "name": "stdout",
     "output_type": "stream",
     "text": [
      "Setia Budi - Japanese Cuisine: Score 0.047\n"
     ]
    },
    {
     "name": "stderr",
     "output_type": "stream",
     "text": [
      "C:\\Users\\ESB\\miniconda3\\Lib\\site-packages\\sklearn\\utils\\validation.py:2749: UserWarning: X does not have valid feature names, but StandardScaler was fitted with feature names\n",
      "  warnings.warn(\n"
     ]
    },
    {
     "name": "stdout",
     "output_type": "stream",
     "text": [
      "Cilandak - Indonesian Traditional: Score 0.097\n",
      "Jagakarsa - Fresh Seafood: Score 0.023\n"
     ]
    },
    {
     "name": "stderr",
     "output_type": "stream",
     "text": [
      "C:\\Users\\ESB\\miniconda3\\Lib\\site-packages\\sklearn\\utils\\validation.py:2749: UserWarning: X does not have valid feature names, but StandardScaler was fitted with feature names\n",
      "  warnings.warn(\n"
     ]
    }
   ],
   "source": [
    "test_locations = [\n",
    "    # High potential areas\n",
    "    (-6.225, 106.825, 'Setia Budi', 'Fresh Juices'),\n",
    "    (-6.235, 106.805, 'Kebayoran Baru', 'Coffee and Hot Beverages'),\n",
    "    (-6.220, 106.820, 'Setia Budi', 'Salads and Bowls'),\n",
    "    \n",
    "    # Medium potential  \n",
    "    (-6.230, 106.850, 'Setia Budi', 'Japanese Cuisine'),\n",
    "    (-6.285, 106.795, 'Cilandak', 'Indonesian Traditional'),\n",
    "    \n",
    "    # Lower potential \n",
    "    (-6.320, 106.820, 'Jagakarsa', 'Fresh Seafood')\n",
    "]\n",
    "\n",
    "# Test all locations\n",
    "for lat, lng, district, category in test_locations:\n",
    "    result = ml_system.score_new_location(lat, lng, district, category)\n",
    "    print(f\"{district} - {category}: Score {result['spatial_score']['score']}\")"
   ]
  },
  {
   "cell_type": "code",
   "execution_count": null,
   "id": "5d241be0-e6af-4e38-891e-6424e10f6691",
   "metadata": {},
   "outputs": [],
   "source": []
  }
 ],
 "metadata": {
  "kernelspec": {
   "display_name": "Python 3 (ipykernel)",
   "language": "python",
   "name": "python3"
  },
  "language_info": {
   "codemirror_mode": {
    "name": "ipython",
    "version": 3
   },
   "file_extension": ".py",
   "mimetype": "text/x-python",
   "name": "python",
   "nbconvert_exporter": "python",
   "pygments_lexer": "ipython3",
   "version": "3.13.5"
  }
 },
 "nbformat": 4,
 "nbformat_minor": 5
}
